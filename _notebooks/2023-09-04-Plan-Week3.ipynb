{
 "cells": [
  {
   "cell_type": "markdown",
   "id": "99d6996d",
   "metadata": {},
   "source": [
    "---\n",
    "comments: True\n",
    "layout: post\n",
    "title: Plan for week 3\n",
    "description: What I plan to do for week 2.\n",
    "type: plans\n",
    "courses: {'csp': {'week': 3}}\n",
    "---"
   ]
  },
  {
   "cell_type": "markdown",
   "id": "03b253cd",
   "metadata": {},
   "source": [
    "# Plans for week 2!!\n",
    "\n",
    "### Me and my partner William Cheng will perform hacks and finish these things:\n",
    "\n",
    "\n",
    "-Saaras Kodali is committed to developing a functional calculator using JavaScript and incorporating CSS styling, with a target completion date of Wednesday. Simultaneously, William Cheng will focus on creating Linux scripts tailored for cybersecurity purposes. The next step involves seamlessly integrating these JavaScript and Linux scripts into our markdown documentation to ensure comprehensive project documentation and usability. Finally, we plan to seek external audit and feedback from a knowledgeable group to ensure the quality and security of our work, fostering a collaborative and robust project development process."
   ]
  }
 ],
 "metadata": {
  "kernelspec": {
   "display_name": "Python 3 (ipykernel)",
   "language": "python",
   "name": "python3"
  },
  "language_info": {
   "codemirror_mode": {
    "name": "ipython",
    "version": 3
   },
   "file_extension": ".py",
   "mimetype": "text/x-python",
   "name": "python",
   "nbconvert_exporter": "python",
   "pygments_lexer": "ipython3",
   "version": "3.10.9"
  }
 },
 "nbformat": 4,
 "nbformat_minor": 5
}
