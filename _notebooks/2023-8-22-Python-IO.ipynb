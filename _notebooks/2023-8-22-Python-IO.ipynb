{
 "cells": [
  {
   "cell_type": "markdown",
   "id": "5641b81b",
   "metadata": {},
   "source": [
    "---\n",
    "layout: post\n",
    "title: Just a quiz me and saaras made\n",
    "description: Clean and optimized just like my website \n",
    "toc: true\n",
    "comments: true\n",
    "categories: [5.A, C4.1]\n",
    "courses: { csse: {week: 0}, csp: {week: 1, categories: [6.B]}, csa: {week: 0} }\n",
    "type: devops\n",
    "---\n"
   ]
  },
  {
   "cell_type": "markdown",
   "id": "59fd2684",
   "metadata": {},
   "source": [
    "## Python Input/Output:\n",
    "- We were able to utilize our pre-requisite, knowledge of functions to create a set of questions and answers in a more optimal fashion where it is less lines of code and looks more aesthetic to the eye."
   ]
  },
  {
   "cell_type": "markdown",
   "id": "2ac8667a",
   "metadata": {},
   "source": []
  },
  {
   "cell_type": "code",
   "execution_count": null,
   "id": "47ad7bbd",
   "metadata": {},
   "outputs": [],
   "source": [
    "import getpass, sys, os\n",
    "def ask_question(question, correct_answer):\n",
    "    user_response = input(f\"Question: {question}\\nYour Answer: \")\n",
    "    if user_response.lower() == correct_answer.lower():\n",
    "        print(f\"Correct!\\n\")\n",
    "        return 1\n",
    "    else:\n",
    "        print(f\"Sorry, that's incorrect. The correct answer is: {correct_answer}\\n\")\n",
    "        return 0\n",
    "    \n",
    "def main():\n",
    "    questions = [\n",
    "        (\"Is Python a programming language?\", \"yes\"),\n",
    "        (\"Can you store multiple values in a list?\", \"yes\"),\n",
    "        (\"Does Python use indentation to define code blocks?\", \"yes\"),\n",
    "    ]\n",
    "\n",
    "    print(f\"Hello, {getpass.getuser()} running {sys.executable}\")\n",
    "    print(f\"You will be asked {len(questions)} questions.\")\n",
    "    input(\"Press Enter to start the test...\")\n",
    "    correct_count = sum(ask_question(q, a) for q, a in questions)\n",
    "    percentage = (correct_count / len(questions)) * 100\n",
    "    print(f\"{getpass.getuser()}, you scored {correct_count}/{len(questions)} which is {percentage:.2f}%.\")\n",
    "\n",
    "if __name__ == \"__main__\":\n",
    "    main()"
   ]
  }
 ],
 "metadata": {
  "kernelspec": {
   "display_name": "Python 3 (ipykernel)",
   "language": "python",
   "name": "python3"
  },
  "language_info": {
   "codemirror_mode": {
    "name": "ipython",
    "version": 3
   },
   "file_extension": ".py",
   "mimetype": "text/x-python",
   "name": "python",
   "nbconvert_exporter": "python",
   "pygments_lexer": "ipython3",
   "version": "3.10.9"
  }
 },
 "nbformat": 4,
 "nbformat_minor": 5
}
