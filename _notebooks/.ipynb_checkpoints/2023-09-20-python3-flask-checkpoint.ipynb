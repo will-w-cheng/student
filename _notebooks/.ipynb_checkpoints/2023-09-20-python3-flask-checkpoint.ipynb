{
 "cells": [
  {
   "cell_type": "markdown",
   "id": "b5a46ab4",
   "metadata": {},
   "source": [
    "---\n",
    "title: Python flask backend\n",
    "toc: True\n",
    "description: Flask backend\n",
    "courses: {'csp': {'week': 5}}\n",
    "type: hacks\n",
    "---"
   ]
  },
  {
   "cell_type": "code",
   "execution_count": 2,
   "id": "19a112b7",
   "metadata": {},
   "outputs": [],
   "source": [
    "%%python --bg\n",
    "\n",
    "from flask import Flask, jsonify\n",
    "from flask_cors import CORS\n",
    "\n",
    "# initialize a flask application (app)\n",
    "app = Flask(__name__)\n",
    "CORS(app, supports_credentials=True, origins='*')  # Allow all origins (*)\n",
    "\n",
    "# ... your existing Flask\n",
    "\n",
    "# add an api endpoint to flask app\n",
    "@app.route('/api/data')\n",
    "def get_data():\n",
    "    # start a list, to be used like a information database\n",
    "    InfoDb = []\n",
    "\n",
    "    # add a row to list, an Info record\n",
    "    InfoDb.append({\n",
    "        \"FirstName\": \"Will\",\n",
    "        \"LastName\": \"Cheng\",\n",
    "        \"DOB\": \"Novemeber 27\",\n",
    "        \"Residence\": \"San Diego\",\n",
    "        \"Email\": \"funnykidland@gmail.com\",\n",
    "        \"Cats\": [\"siberian\", \"persian\", \"bengal\", \"maine-coon\", \"sphynx\"]\n",
    "    })\n",
    "\n",
    "    # add a row to list, an Info record\n",
    "    InfoDb.append({\n",
    "        \"FirstName\": \"Saaras\",\n",
    "        \"LastName\": \"Kodali\",\n",
    "        \"DOB\": \"October 1\",\n",
    "        \"Residence\": \"San Diego\",\n",
    "        \"Email\": \"kodalisaaras@gmail.com\",\n",
    "        \"Games\": [\"League of Legends\", \"Genshin Impact\", \"Valorant\"]\n",
    "    })\n",
    "    \n",
    "    InfoDb.append({\n",
    "        \"FirstName\": \"Andrew\",\n",
    "        \"LastName\": \"Kim\",\n",
    "        \"DOB\": \"Novemeber 26\",\n",
    "        \"Residence\": \"San Diego\",\n",
    "        \"Email\": \"andrew.kim328@gmail.com\",\n",
    "        \"Music\": [\"Ghibli\", \"Nukes\", \"Nirvana\"]\n",
    "    })\n",
    "    \n",
    "    return jsonify(InfoDb)\n",
    "\n",
    "# add an HTML endpoint to flask app\n",
    "@app.route('/')\n",
    "def say_hello():\n",
    "    html_content = \"\"\"\n",
    "    <html>\n",
    "    <head>\n",
    "        <title>Team Influencer Innovator's Blog</title>\n",
    "    </head>\n",
    "    <body>\n",
    "        <h2>Hi everyone! We are Team Influence and Innovators, our teams consist of Will Cheng, Saaras Kodali, Daniel Lee, Andrew Kim, and Ryan Liao!</h2>\n",
    "    </body>\n",
    "    </html>\n",
    "    \"\"\"\n",
    "    return html_content\n",
    "\n",
    "if __name__ == '__main__':\n",
    "    # starts flask server on default port, http://127.0.0.1:5001\n",
    "    app.run(port=5001)"
   ]
  },
  {
   "cell_type": "code",
   "execution_count": 3,
   "id": "d8b172d0",
   "metadata": {},
   "outputs": [
    {
     "name": "stderr",
     "output_type": "stream",
     "text": [
      "your 131072x1 screen size is bogus. expect trouble\n"
     ]
    },
    {
     "name": "stdout",
     "output_type": "stream",
     "text": [
      "  PID TTY          TIME CMD\n",
      "  443 pts/2    00:00:00 bash\n",
      "  450 pts/2    00:00:00 xargs\n",
      "  451 pts/2    00:00:00 ps\n"
     ]
    }
   ],
   "source": [
    "%%script bash\n",
    "\n",
    "# After app.run(), see the the Python process\n",
    "lsof -i :5001\n",
    "# see the the Python app\n",
    "lsof -i :5001 | awk '/Python/ {print $2}' | xargs ps\n"
   ]
  },
  {
   "cell_type": "code",
   "execution_count": 4,
   "id": "ca90b25c",
   "metadata": {},
   "outputs": [
    {
     "data": {
      "text/plain": [
       "[{'Cats': ['siberian', 'persian', 'bengal', 'maine-coon', 'sphynx'],\n",
       "  'DOB': 'Novemeber 27',\n",
       "  'Email': 'funnykidland@gmail.com',\n",
       "  'FirstName': 'Will',\n",
       "  'LastName': 'Cheng',\n",
       "  'Residence': 'San Diego'},\n",
       " {'DOB': 'October 1',\n",
       "  'Email': 'kodalisaaras@gmail.com',\n",
       "  'FirstName': 'Saaras',\n",
       "  'Games': ['League of Legends', 'Genshin Impact', 'Valorant'],\n",
       "  'LastName': 'Kodali',\n",
       "  'Residence': 'San Diego'},\n",
       " {'DOB': 'Novemeber 26',\n",
       "  'Email': 'andrew.kim328@gmail.com',\n",
       "  'FirstName': 'Andrew',\n",
       "  'LastName': 'Kim',\n",
       "  'Music': ['Ghibli', 'Nukes', 'Nirvana'],\n",
       "  'Residence': 'San Diego'}]"
      ]
     },
     "execution_count": 4,
     "metadata": {},
     "output_type": "execute_result"
    }
   ],
   "source": [
    "import requests\n",
    "res = requests.get('http://127.0.0.1:5001/api/data')\n",
    "res.json()"
   ]
  }
 ],
 "metadata": {
  "kernelspec": {
   "display_name": "Python 3 (ipykernel)",
   "language": "python",
   "name": "python3"
  },
  "language_info": {
   "codemirror_mode": {
    "name": "ipython",
    "version": 3
   },
   "file_extension": ".py",
   "mimetype": "text/x-python",
   "name": "python",
   "nbconvert_exporter": "python",
   "pygments_lexer": "ipython3",
   "version": "3.10.9"
  }
 },
 "nbformat": 4,
 "nbformat_minor": 5
}
