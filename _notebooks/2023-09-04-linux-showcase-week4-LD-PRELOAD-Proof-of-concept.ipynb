{
 "cells": [
  {
   "cell_type": "markdown",
   "id": "962e79f5",
   "metadata": {},
   "source": [
    "title: LD_Preload trick 😈\n",
    "toc: True\n",
    "description: A proof of concept of how LD_Preload works and the different caviots. Showcases our understanding of the linux bash shell and commands and takes it one step further to understand lower-level linux knowledge\n",
    "courses: {'csp': {'week': 4}}\n",
    "type: hacks\n",
    "---"
   ]
  }
 ],
 "metadata": {
  "kernelspec": {
   "display_name": "Python 3 (ipykernel)",
   "language": "python",
   "name": "python3"
  },
  "language_info": {
   "codemirror_mode": {
    "name": "ipython",
    "version": 3
   },
   "file_extension": ".py",
   "mimetype": "text/x-python",
   "name": "python",
   "nbconvert_exporter": "python",
   "pygments_lexer": "ipython3",
   "version": "3.10.9"
  }
 },
 "nbformat": 4,
 "nbformat_minor": 5
}
