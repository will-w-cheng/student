{
 "cells": [
  {
   "cell_type": "markdown",
   "id": "f4c329f0",
   "metadata": {},
   "source": [
    "---\n",
    "title: CSP team test \n",
    "toc: True\n",
    "description: Program with function and purpose that we personally worked on with my team test, this is our part!\n",
    "courses: {'csp': {'week': 4}}\n",
    "type: hacks\n",
    "---"
   ]
  },
  {
   "cell_type": "code",
   "execution_count": 1,
   "id": "44c5ee54",
   "metadata": {},
   "outputs": [
    {
     "name": "stdout",
     "output_type": "stream",
     "text": [
      "Program with Output\n",
      "Hello, world\n"
     ]
    }
   ],
   "source": [
    "# Program with Output\n",
    "print(\"Program with Output\")\n",
    "print(\"Hello, world\")"
   ]
  },
  {
   "cell_type": "code",
   "execution_count": 1,
   "id": "d6a9a0bd",
   "metadata": {},
   "outputs": [
    {
     "name": "stdout",
     "output_type": "stream",
     "text": [
      "\n",
      "Program with Input and Output\n",
      "Enter your name: will\n",
      "Hello, will!\n"
     ]
    }
   ],
   "source": [
    "# Program with Input and Output\n",
    "print(\"\\nProgram with Input and Output\")\n",
    "name = input(\"Enter your name: \")\n",
    "print(\"Hello, \" + name + \"!\")"
   ]
  },
  {
   "cell_type": "code",
   "execution_count": 3,
   "id": "86a962d0",
   "metadata": {},
   "outputs": [
    {
     "name": "stdout",
     "output_type": "stream",
     "text": [
      "\n",
      "Program with a List\n",
      "apple\n",
      "banana\n",
      "cherry\n"
     ]
    }
   ],
   "source": [
    "# Program with a List\n",
    "print(\"\\nProgram with a List\")\n",
    "fruits = [\"apple\", \"banana\", \"cherry\"]\n",
    "for fruit in fruits:\n",
    "    print(fruit)"
   ]
  },
  {
   "cell_type": "code",
   "execution_count": 1,
   "id": "18d1a1bf",
   "metadata": {},
   "outputs": [
    {
     "name": "stdout",
     "output_type": "stream",
     "text": [
      "\n",
      "Program with a Dictionary\n",
      "Student Information:\n",
      "name: Will\n",
      "age: 25\n",
      "grade: A\n"
     ]
    }
   ],
   "source": [
    "# Program with a Dictionary\n",
    "print(\"\\nProgram with a Dictionary\")\n",
    "student = {\"name\": \"Will\", \"age\": 25, \"grade\": \"A\"}\n",
    "print(\"Student Information:\")\n",
    "for key, value in student.items():\n",
    "    print(key + \": \" + str(value))"
   ]
  },
  {
   "cell_type": "code",
   "execution_count": 5,
   "id": "9a025945",
   "metadata": {},
   "outputs": [
    {
     "name": "stdout",
     "output_type": "stream",
     "text": [
      "\n",
      "Program with Iteration\n",
      "Number: 1\n",
      "Number: 2\n",
      "Number: 3\n",
      "Number: 4\n",
      "Number: 5\n"
     ]
    }
   ],
   "source": [
    "# Program with Iteration (stop here will), one based numbering\n",
    "print(\"\\nProgram with Iteration\")\n",
    "for i in range(1, 6):\n",
    "    print(\"Number:\", i)"
   ]
  },
  {
   "cell_type": "code",
   "execution_count": 6,
   "id": "8343d1e2",
   "metadata": {},
   "outputs": [
    {
     "name": "stdout",
     "output_type": "stream",
     "text": [
      "\n",
      "Program with a Function for Calculation\n"
     ]
    }
   ],
   "source": [
    "# Program with a Function to perform mathematical and/or statistical calculations\n",
    "print(\"\\nProgram with a Function for Calculation\")\n",
    "def calculate_average(numbers):\n",
    "    total = sum(numbers)\n",
    "    average = total / len(numbers)\n",
    "    return average"
   ]
  },
  {
   "cell_type": "code",
   "execution_count": 7,
   "id": "b4480789",
   "metadata": {},
   "outputs": [
    {
     "name": "stdout",
     "output_type": "stream",
     "text": [
      "\n",
      "Program with a Function for Calculation\n",
      "Average: 20.0\n"
     ]
    }
   ],
   "source": [
    "# Program with a Function to perform mathematical and/or statistical calculations\n",
    "print(\"\\nProgram with a Function for Calculation\")\n",
    "def calculate_average(numbers):\n",
    "    total = sum(numbers)\n",
    "    average = total / len(numbers)\n",
    "    return average\n",
    "\n",
    "data = [10, 15, 20, 25, 30]\n",
    "avg = calculate_average(data)\n",
    "print(\"Average:\", avg)"
   ]
  },
  {
   "cell_type": "code",
   "execution_count": 2,
   "id": "2fcf671f",
   "metadata": {},
   "outputs": [
    {
     "name": "stdout",
     "output_type": "stream",
     "text": [
      "\n",
      "Program with Selection/Condition\n",
      "17 is odd.\n"
     ]
    }
   ],
   "source": [
    "# Program with a Selection/Condition\n",
    "print(\"\\nProgram with Selection/Condition\")\n",
    "num = int(input(\"Enter a number: \"))\n",
    "if num % 2 == 0:\n",
    "    print(num, \"is even.\")\n",
    "else:\n",
    "    print(num, \"is odd.\")"
   ]
  },
  {
   "cell_type": "code",
   "execution_count": 3,
   "id": "9e79092c",
   "metadata": {},
   "outputs": [
    {
     "name": "stdout",
     "output_type": "stream",
     "text": [
      "\n",
      "Program with Purpose\n",
      "Enter a number to find its factorial: 18\n",
      "Factorial of 18 is 6402373705728000\n"
     ]
    }
   ],
   "source": [
    "# Program with Purpose\n",
    "print(\"\\nProgram with Purpose\")\n",
    "def find_factorial(n):\n",
    "    if n == 0:\n",
    "        return 1\n",
    "    else:\n",
    "        return n * find_factorial(n - 1)\n",
    "\n",
    "number = int(input(\"Enter a number to find its factorial: \"))\n",
    "factorial = find_factorial(number)\n",
    "print(\"Factorial of\", number, \"is\", factorial)"
   ]
  }
 ],
 "metadata": {
  "kernelspec": {
   "display_name": "Python 3 (ipykernel)",
   "language": "python",
   "name": "python3"
  },
  "language_info": {
   "codemirror_mode": {
    "name": "ipython",
    "version": 3
   },
   "file_extension": ".py",
   "mimetype": "text/x-python",
   "name": "python",
   "nbconvert_exporter": "python",
   "pygments_lexer": "ipython3",
   "version": "3.10.11"
  }
 },
 "nbformat": 4,
 "nbformat_minor": 5
}
