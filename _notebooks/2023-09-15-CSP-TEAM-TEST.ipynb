{
 "cells": [
  {
   "cell_type": "markdown",
   "id": "f4c329f0",
   "metadata": {},
   "source": [
    "---\n",
    "title: CSP team test \n",
    "toc: True\n",
    "description: Program with function and purpose that I personally worked on with my team test, this is my part!\n",
    "courses: {'csp': {'week': 4}}\n",
    "type: hacks\n",
    "---"
   ]
  },
  {
   "cell_type": "code",
   "execution_count": 1,
   "id": "44c5ee54",
   "metadata": {},
   "outputs": [
    {
     "name": "stdout",
     "output_type": "stream",
     "text": [
      "Program with Output\n",
      "Hello, world\n"
     ]
    }
   ],
   "source": [
    "# Program with Output\n",
    "print(\"Program with Output\")\n",
    "print(\"Hello, world\")"
   ]
  },
  {
   "cell_type": "code",
   "execution_count": 1,
   "id": "d6a9a0bd",
   "metadata": {},
   "outputs": [
    {
     "name": "stdout",
     "output_type": "stream",
     "text": [
      "\n",
      "Program with Input and Output\n",
      "Hello, !\n"
     ]
    }
   ],
   "source": [
    "# Program with Input and Output\n",
    "print(\"\\nProgram with Input and Output\")\n",
    "name = input(\"Enter your name: \")\n",
    "print(\"Hello, \" + name + \"!\")"
   ]
  },
  {
   "cell_type": "code",
   "execution_count": null,
   "id": "86a962d0",
   "metadata": {},
   "outputs": [],
   "source": [
    "# Program with a List\n",
    "print(\"\\nProgram with a List\")\n",
    "fruits = [\"apple\", \"banana\", \"cherry\"]\n",
    "for fruit in fruits:\n",
    "    print(fruit)"
   ]
  },
  {
   "cell_type": "code",
   "execution_count": null,
   "id": "18d1a1bf",
   "metadata": {},
   "outputs": [],
   "source": [
    "# Program with a Dictionary\n",
    "print(\"\\nProgram with a Dictionary\")\n",
    "student = {\"name\": \"John\", \"age\": 25, \"grade\": \"A\"}\n",
    "print(\"Student Information:\")\n",
    "for key, value in student.items():\n",
    "    print(key + \": \" + str(value))"
   ]
  },
  {
   "cell_type": "code",
   "execution_count": null,
   "id": "9a025945",
   "metadata": {},
   "outputs": [],
   "source": [
    "# Program with Iteration\n",
    "print(\"\\nProgram with Iteration\")\n",
    "for i in range(1, 6):\n",
    "    print(\"Number:\", i)"
   ]
  },
  {
   "cell_type": "code",
   "execution_count": null,
   "id": "8343d1e2",
   "metadata": {},
   "outputs": [],
   "source": [
    "# Program with a Function to perform mathematical and/or statistical calculations\n",
    "print(\"\\nProgram with a Function for Calculation\")\n",
    "def calculate_average(numbers):\n",
    "    total = sum(numbers)\n",
    "    average = total / len(numbers)\n",
    "    return average"
   ]
  },
  {
   "cell_type": "code",
   "execution_count": null,
   "id": "b4480789",
   "metadata": {},
   "outputs": [],
   "source": [
    "# Program with a Function to perform mathematical and/or statistical calculations\n",
    "print(\"\\nProgram with a Function for Calculation\")\n",
    "def calculate_average(numbers):\n",
    "    total = sum(numbers)\n",
    "    average = total / len(numbers)\n",
    "    return average\n",
    "\n",
    "data = [10, 15, 20, 25, 30]\n",
    "avg = calculate_average(data)\n",
    "print(\"Average:\", avg)"
   ]
  },
  {
   "cell_type": "code",
   "execution_count": null,
   "id": "2fcf671f",
   "metadata": {},
   "outputs": [],
   "source": [
    "# Program with a Selection/Condition\n",
    "print(\"\\nProgram with Selection/Condition\")\n",
    "num = int(input(\"Enter a number: \"))\n",
    "if num % 2 == 0:\n",
    "    print(num, \"is even.\")\n",
    "else:\n",
    "    print(num, \"is odd.\")"
   ]
  },
  {
   "cell_type": "code",
   "execution_count": null,
   "id": "9e79092c",
   "metadata": {},
   "outputs": [],
   "source": [
    "# Program with Purpose\n",
    "print(\"\\nProgram with Purpose\")\n",
    "def find_factorial(n):\n",
    "    if n == 0:\n",
    "        return 1\n",
    "    else:\n",
    "        return n * find_factorial(n - 1)\n",
    "\n",
    "number = int(input(\"Enter a number to find its factorial: \"))\n",
    "factorial = find_factorial(number)\n",
    "print(\"Factorial of\", number, \"is\", factorial)"
   ]
  }
 ],
 "metadata": {
  "kernelspec": {
   "display_name": "Python 3 (ipykernel)",
   "language": "python",
   "name": "python3"
  },
  "language_info": {
   "codemirror_mode": {
    "name": "ipython",
    "version": 3
   },
   "file_extension": ".py",
   "mimetype": "text/x-python",
   "name": "python",
   "nbconvert_exporter": "python",
   "pygments_lexer": "ipython3",
   "version": "3.10.11"
  }
 },
 "nbformat": 4,
 "nbformat_minor": 5
}
