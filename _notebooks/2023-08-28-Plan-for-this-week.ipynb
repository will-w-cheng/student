{
 "cells": [
  {
   "cell_type": "markdown",
   "id": "745f3626",
   "metadata": {},
   "source": [
    "---\n",
    "comments: true\n",
    "layout: post\n",
    "title: Plan for week 2\n",
    "description: What I plan to do for week 2.\n",
    "type: plans\n",
    "courses: { csp: {week: 2}}\n",
    "---"
   ]
  },
  {
   "cell_type": "markdown",
   "id": "69b65044",
   "metadata": {},
   "source": [
    "# Plans for week 2!\n",
    "\n",
    "### Me and my genshin addict partner Saaras Kodali will perform hacks and finish these things:\n",
    "\n",
    "- JS Calculator (hacks)\n",
    "- Python Tricks! (hacks)\n",
    "- JS Output w/ query (hacks)\n",
    "- Revising Linux Shell and Python IO notebooks and edit the hacks\n",
    "- Edit the main page to a notebook cover lab\n",
    "- Work on project (vcf parser)"
   ]
  },
  {
   "cell_type": "code",
   "execution_count": null,
   "id": "8210f656",
   "metadata": {},
   "outputs": [],
   "source": []
  }
 ],
 "metadata": {
  "kernelspec": {
   "display_name": "Python 3 (ipykernel)",
   "language": "python",
   "name": "python3"
  },
  "language_info": {
   "codemirror_mode": {
    "name": "ipython",
    "version": 3
   },
   "file_extension": ".py",
   "mimetype": "text/x-python",
   "name": "python",
   "nbconvert_exporter": "python",
   "pygments_lexer": "ipython3",
   "version": "3.10.9"
  }
 },
 "nbformat": 4,
 "nbformat_minor": 5
}
