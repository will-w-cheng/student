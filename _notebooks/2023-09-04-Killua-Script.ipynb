{
 "cells": [
  {
   "cell_type": "markdown",
   "id": "38dd2b87",
   "metadata": {},
   "source": [
    "---\n",
    "title: Killua \n",
    "toc: True\n",
    "description: Vulnerbility Assesment on Unix-Based Debian systems\n",
    "courses: {'csp': {'week': 3}}\n",
    "type: hacks\n",
    "---"
   ]
  },
  {
   "cell_type": "markdown",
   "id": "5841017d",
   "metadata": {},
   "source": [
    "# Comprehensive Understanding of Linux Bash and Shell Scripting\n",
    "\n",
    "In this script, we demonstrate a comprehensive understanding of Linux Bash scripting to perform system configuration and security checks. This script evaluates various aspects of a Linux system to ensure its security and compliance with best practices.\n",
    "\n",
    "## 1. Functions for Success and Failure Messages\n",
    "\n",
    "We define functions for displaying success and failure messages with appropriate colors, making the output easily readable and informative.\n",
    "\n",
    "```bash\n",
    "function SuccessMessage () {\n",
    "    # Display success message in green\n",
    "}\n",
    "\n",
    "function FalseMessage () {\n",
    "    # Display failure message in red\n",
    "}\n",
    "```\n",
    "\n",
    "## File and Command Checks\n",
    "We use conditional statements and commands to check for specific conditions within files and the output of commands. \n",
    "Here are some notable examples:\n",
    "\n",
    "### FileContains and FileContainsNot\n",
    "These functions check if a specified pattern exists or does not exist within a file, displaying appropriate messages.\n",
    "```bash\n",
    "FileContains \"dpkg -l aide\" \"no packages\" \"1.3.1\" \"Ensure AIDE is installed\"\n",
    "FileContainsNot \"dpkg -l prelink\" \"prelink\" \"1.5.3\" \"Ensure prelink is not installed\"\n",
    "```\n",
    "### CommandContains and CommandContainsNot\n",
    "These functions execute commands and check if the output contains or does not contain a specific pattern.\n",
    "```bash\n",
    "CommandContains \"systemctl is-enabled autofs\" \"disabled\" \"1.1.23\" \"Disable Automounting\"\n",
    "CommandContainsNot \"dpkg -l xserver-xorg*\" \"no packages\" \"2.1.2\" \"Ensure X Window System is not installed\"\n",
    "```\n",
    "\n",
    "## 3. System Configuration Checks\n",
    "\n",
    "Ensuring the absence of unnecessary services:\n",
    "```bash\n",
    "CommandContainsNot \"dpkg -l rsh-client\" \"no packages\" \"2.2.2\" \"Ensure rsh client is not installed\"\n",
    "```\n",
    "\n",
    "Checking for required software packages:\n",
    "```bash\n",
    "CommandContains \"dpkg -l auditd\" \"no packages\" \"4.1.1.1\" \"Ensure auditd is installed\"```\n",
    "```\n",
    "\n",
    "Validating system log settings:\n",
    "```bash\n",
    "CommandContains \"grep max_log_file_action /etc/audit/auditd.conf\" \"max_log_file_action = keep_logs\" \"4.1.2.2\" \"Ensure audit logs are not automatically deleted\"\n",
    "```\n",
    "## 4. Security and Compliance Measures\n",
    "The script covers a wide range of security and compliance measures, such as disabling unnecessary services, controlling USB storage, and ensuring the presence of required packages. It also checks for proper log management and configuration. These are also taken directly from CIS benchmarks and has direct use from real corporations and small businesses for people\n",
    "\n",
    "## 5. Output Clarity\n",
    "The script utilizes colorful output messages to clearly indicate whether a check passed or failed, making it easy for users to identify issues at a glance.\n",
    "\n",
    "In summary, this script demonstrates a deep understanding of Linux Bash scripting, including functions, conditional statements, file manipulation, and command execution. It is a powerful tool for system administrators and security professionals to assess and maintain the security and compliance of Linux systems."
   ]
  },
  {
   "cell_type": "code",
   "execution_count": 2,
   "id": "2fc80dd4",
   "metadata": {},
   "outputs": [
    {
     "name": "stderr",
     "output_type": "stream",
     "text": [
      "Failed to get unit file state for autofs.service: No such file or directory\n"
     ]
    },
    {
     "name": "stdout",
     "output_type": "stream",
     "text": [
      "\u001b[91m[-]\u001b[39m Check for OS: Ubuntu 20 - \u001b[91m1.1.23: Disable Automounting\n"
     ]
    },
    {
     "name": "stderr",
     "output_type": "stream",
     "text": [
      "modprobe: FATAL: Module usb-storage not found in directory /lib/modules/5.10.16.3-microsoft-standard-WSL2\n"
     ]
    },
    {
     "name": "stdout",
     "output_type": "stream",
     "text": [
      "\u001b[91m[-]\u001b[39m Check for OS: Ubuntu 20 - \u001b[91m1.1.24: Disable USB Storage\n"
     ]
    },
    {
     "name": "stderr",
     "output_type": "stream",
     "text": [
      "dpkg-query: no packages found matching aide\n"
     ]
    },
    {
     "name": "stdout",
     "output_type": "stream",
     "text": [
      "\u001b[91m[-]\u001b[39m Check for OS: Ubuntu 20 - \u001b[91m1.3.1: Ensure AIDE is installed\n"
     ]
    },
    {
     "name": "stderr",
     "output_type": "stream",
     "text": [
      "dpkg-query: no packages found matching aide-common\n"
     ]
    },
    {
     "name": "stdout",
     "output_type": "stream",
     "text": [
      "\u001b[91m[-]\u001b[39m Check for OS: Ubuntu 20 - \u001b[91m1.3.1: Ensure aide-common is installed\n"
     ]
    },
    {
     "name": "stderr",
     "output_type": "stream",
     "text": [
      "dpkg-query: no packages found matching prelink\n"
     ]
    },
    {
     "name": "stdout",
     "output_type": "stream",
     "text": [
      "\u001b[92m[+]\u001b[39m Check for OS: Ubuntu 20 - \u001b[92m1.5.3: Ensure prelink is not installed\n",
      "\u001b[91m[-]\u001b[39m Check for OS: Ubuntu 20 - \u001b[91m1.6.1.1: Ensure AppArmor is installed\n"
     ]
    },
    {
     "name": "stderr",
     "output_type": "stream",
     "text": [
      "dpkg-query: no packages found matching xserver-xorg*\n"
     ]
    },
    {
     "name": "stdout",
     "output_type": "stream",
     "text": [
      "\u001b[92m[+]\u001b[39m Check for OS: Ubuntu 20 - \u001b[92m2.1.2: Ensure X Window System is not installed\n"
     ]
    },
    {
     "name": "stderr",
     "output_type": "stream",
     "text": [
      "dpkg-query: no packages found matching avahi-daemon\n"
     ]
    },
    {
     "name": "stdout",
     "output_type": "stream",
     "text": [
      "\u001b[92m[+]\u001b[39m Check for OS: Ubuntu 20 - \u001b[92m2.1.3: Ensure RPC is not installed\n"
     ]
    },
    {
     "name": "stderr",
     "output_type": "stream",
     "text": [
      "dpkg-query: no packages found matching isc-dhcp-server\n"
     ]
    },
    {
     "name": "stdout",
     "output_type": "stream",
     "text": [
      "\u001b[92m[+]\u001b[39m Check for OS: Ubuntu 20 - \u001b[92m2.1.5: Ensure DHCP Server is not installed\n",
      "\u001b[92m[+]\u001b[39m Check for OS: Ubuntu 20 - \u001b[92m2.1.7: Ensure NFS is not installed\n",
      "\u001b[92m[+]\u001b[39m Check for OS: Ubuntu 20 - \u001b[92m2.1.17: Ensure NIS Server is not installed\n",
      "\u001b[92m[+]\u001b[39m Check for OS: Ubuntu 20 - \u001b[92m2.2.2: Ensure rsh client is not installed\n"
     ]
    },
    {
     "name": "stderr",
     "output_type": "stream",
     "text": [
      "dpkg-query: no packages found matching talk\n"
     ]
    },
    {
     "name": "stdout",
     "output_type": "stream",
     "text": [
      "\u001b[92m[+]\u001b[39m Check for OS: Ubuntu 20 - \u001b[92m2.2.3: Ensure talk client is not installed\n"
     ]
    },
    {
     "name": "stderr",
     "output_type": "stream",
     "text": [
      "dpkg-query: no packages found matching ldap-clients\n"
     ]
    },
    {
     "name": "stdout",
     "output_type": "stream",
     "text": [
      "\u001b[92m[+]\u001b[39m Check for OS: Ubuntu 20 - \u001b[92m2.2.5: Ensure LDAP client is not installed\n"
     ]
    },
    {
     "name": "stderr",
     "output_type": "stream",
     "text": [
      "dpkg-query: no packages found matching rpcbind\n"
     ]
    },
    {
     "name": "stdout",
     "output_type": "stream",
     "text": [
      "\u001b[92m[+]\u001b[39m Check for OS: Ubuntu 20 - \u001b[92m2.2.6: Ensure RPC is not installed\n"
     ]
    },
    {
     "name": "stderr",
     "output_type": "stream",
     "text": [
      "dpkg-query: no packages found matching iptables-persistent\n"
     ]
    },
    {
     "name": "stdout",
     "output_type": "stream",
     "text": [
      "\u001b[92m[+]\u001b[39m Check for OS: Ubuntu 20 - \u001b[92m3.5.1.2: Ensure iptables-persistent is not installed with ufw\n"
     ]
    },
    {
     "name": "stderr",
     "output_type": "stream",
     "text": [
      "dpkg-query: no packages found matching auditd\n"
     ]
    },
    {
     "name": "stdout",
     "output_type": "stream",
     "text": [
      "\u001b[91m[-]\u001b[39m Check for OS: Ubuntu 20 - \u001b[91m4.1.1.1: Ensure auditd is installed\n"
     ]
    },
    {
     "name": "stderr",
     "output_type": "stream",
     "text": [
      "dpkg-query: no packages found matching audispd-plugins\n"
     ]
    },
    {
     "name": "stdout",
     "output_type": "stream",
     "text": [
      "\u001b[91m[-]\u001b[39m Check for OS: Ubuntu 20 - \u001b[91m4.1.1.1: Ensure audispd-plugins is installed\n"
     ]
    },
    {
     "name": "stderr",
     "output_type": "stream",
     "text": [
      "Failed to get unit file state for auditd.service: No such file or directory\n"
     ]
    },
    {
     "name": "stdout",
     "output_type": "stream",
     "text": [
      "\u001b[91m[-]\u001b[39m Check for OS: Ubuntu 20 - \u001b[91m4.1.1.2: Ensure auditd service is enabled\n"
     ]
    },
    {
     "name": "stderr",
     "output_type": "stream",
     "text": [
      "grep: /etc/audit/auditd.conf: No such file or directory\n"
     ]
    },
    {
     "name": "stdout",
     "output_type": "stream",
     "text": [
      "\u001b[91m[-]\u001b[39m Check for OS: Ubuntu 20 - \u001b[91m4.1.2.2: Ensure audit logs are not automatically deleted\n"
     ]
    },
    {
     "name": "stderr",
     "output_type": "stream",
     "text": [
      "grep: /etc/audit/rules.d/*.rulestail: No such file or directory\n"
     ]
    },
    {
     "name": "stdout",
     "output_type": "stream",
     "text": [
      "\u001b[91m[-]\u001b[39m Check for OS: Ubuntu 20 - \u001b[91m4.1.17: Ensure the audit configuration is immutable\n",
      "\u001b[92m[+]\u001b[39m Check for OS: Ubuntu 20 - \u001b[92m4.2.1.1: Ensure rsyslog is installed\n",
      "\u001b[92m[+]\u001b[39m Check for OS: Ubuntu 20 - \u001b[92m4.2.2.1: Ensure journald is configured to send logs to rsyslog\n",
      "\u001b[92m[+]\u001b[39m Check for OS: Ubuntu 20 - \u001b[92m4.2.2.2: Ensure journald is configured to compress large log files\n",
      "\u001b[91m[-]\u001b[39m Check for OS: Ubuntu 20 - \u001b[91m4.2.2.1: Ensure journald is configured to write logfiles to persistent disk\n"
     ]
    }
   ],
   "source": [
    "%%script bash\n",
    "\n",
    "####### Format: Vuln name (V-4249) and then the actual vuln \"Grub has a password\"\n",
    "function SuccessMessage () {\n",
    "    echo -e \"\\e[92m[+]\\e[39m Check for OS: Ubuntu 20 - \\e[92m$1: $2\"\n",
    "}\n",
    "\n",
    "function FalseMessage () {\n",
    "    echo -e \"\\e[91m[-]\\e[39m Check for OS: Ubuntu 20 - \\e[91m$1: $2\"\n",
    "}\n",
    "\n",
    "####### Format: file, pattern to look for in a file, vuln name, and then the acutal vuln\n",
    "function FileContains () {\n",
    "    if [ ! -f \"$1\" ]; then\n",
    "        echo -e \"\\e[93m$3: $4. - $1 does not exist\"\n",
    "    else\n",
    "        if grep -Fxq \"$2\" $1\n",
    "        then\n",
    "            # code if found\n",
    "            SuccessMessage \"$3\" \"$4\"\n",
    "        else\n",
    "            # code if not found\n",
    "            FalseMessage \"$3\" \"$4\"\n",
    "        fi\n",
    "    fi\n",
    "    \n",
    "}\n",
    "\n",
    "function FileContainsNot () {\n",
    "    if [ ! -f \"$1\" ]; then\n",
    "        echo -e \"\\e[93m$3: $4. - $1 does not exist\"\n",
    "    else\n",
    "        if grep -q $2 \"$1\"\n",
    "        then\n",
    "            # code if found\n",
    "            FalseMessage \"$3\" \"$4\"\n",
    "        else\n",
    "            # code if not found\n",
    "            SuccessMessage \"$3\" \"$4\"\n",
    "        fi\n",
    "    fi\n",
    "    \n",
    "}\n",
    "\n",
    "function CommandContains() {\n",
    "    if $1 | grep -q \"$2\"; then\n",
    "        SuccessMessage \"$3\" \"$4\"\n",
    "    else\n",
    "        FalseMessage \"$3\" \"$4\"\n",
    "    fi\n",
    "}\n",
    "\n",
    "function CommandContainsNot() {\n",
    "    if $1 | grep -q \"$2\"; then\n",
    "        FalseMessage \"$3\" \"$4\"\n",
    "    else\n",
    "        SuccessMessage \"$3\" \"$4\"\n",
    "    fi\n",
    "}\n",
    "\n",
    "#CommandContains \"journalctl 'protection: active'\" \"kernel: NX (Execute Disable) protection: active\" \"1.5.1\" \"Ensure XD/NX support is enabled\"\n",
    "CommandContains \"systemctl is-enabled autofs\" \"disabled\" \"1.1.23\" \"Disable Automounting\"\n",
    "CommandContains \"modprobe -n -v usb-storage\" \"install /bin/true\" \"1.1.24\" \"Disable USB Storage\"\n",
    "CommandContains \"dpkg -l aide\" \"no packages\" \"1.3.1\" \"Ensure AIDE is installed\"\n",
    "CommandContains \"dpkg -l aide-common\" \"no packages\" \"1.3.1\" \"Ensure aide-common is installed\"\n",
    "CommandContainsNot \"dpkg -l prelink\" \"prelink\" \"1.5.3\" \"Ensure prelink is not installed\"\n",
    "CommandContains \"dpkg -l apparmor\" \"no packages\" \"1.6.1.1\" \"Ensure AppArmor is installed\"\n",
    "CommandContainsNot \"dpkg -l xserver-xorg*\" \"no packages\" \"2.1.2\" \"Ensure X Window System is not installed\"\n",
    "CommandContainsNot \"dpkg -l avahi-daemon\" \"no packages\" \"2.1.3\" \"Ensure RPC is not installed\"\n",
    "CommandContainsNot \"dpkg -l isc-dhcp-server\" \"no packages\" \"2.1.5\" \"Ensure DHCP Server is not installed\"\n",
    "CommandContainsNot \"dpkg -l nfs-kernel-server\" \"no packages\" \"2.1.7\" \"Ensure NFS is not installed\"\n",
    "CommandContainsNot \"dpkg -l nis\" \"no packages\" \"2.1.17\" \"Ensure NIS Server is not installed\"\n",
    "CommandContainsNot \"dpkg -l rsh-client\" \"no packages\" \"2.2.2\" \"Ensure rsh client is not installed\"\n",
    "CommandContainsNot \"dpkg -l talk\" \"no packages\" \"2.2.3\" \"Ensure talk client is not installed\"\n",
    "CommandContainsNot \"dpkg -l ldap-clients\" \"no packages\" \"2.2.5\" \"Ensure LDAP client is not installed\"\n",
    "CommandContainsNot \"dpkg -l rpcbind\" \"no packages\" \"2.2.6\" \"Ensure RPC is not installed\"\n",
    "CommandContainsNot \"dpkg -l iptables-persistent\" \"no packages\" \"3.5.1.2\" \"Ensure iptables-persistent is not installed with ufw\"\n",
    "CommandContains \"dpkg -l auditd\" \"no packages\" \"4.1.1.1\" \"Ensure auditd is installed\"\n",
    "CommandContains \"dpkg -l audispd-plugins\" \"no packages\" \"4.1.1.1\" \"Ensure audispd-plugins is installed\"\n",
    "CommandContains \"systemctl is-enabled auditd\" \"enabled\" \"4.1.1.2\" \"Ensure auditd service is enabled\"\n",
    "CommandContains \"grep max_log_file_action /etc/audit/auditd.conf\" \"max_log_file_action = keep_logs\" \"4.1.2.2\" \"Ensure audit logs are not automatically deleted\"\n",
    "CommandContains \"grep '^\\s*[^#]' /etc/audit/rules.d/*.rulestail -1\" \"-e 2\" \"4.1.17\" \"Ensure the audit configuration is immutable\"\n",
    "CommandContainsNot \"dpkg -l rsyslog\" \"no packages\" \"4.2.1.1\" \"Ensure rsyslog is installed\"\n",
    "CommandContains \"grep -e ForwardToSyslog /etc/systemd/journald.conf\" \"ForwardToSyslog=yes\" \"4.2.2.1\" \"Ensure journald is configured to send logs to rsyslog\"\n",
    "CommandContains \"grep -e Compress /etc/systemd/journald.conf\" \"Compress=yes\" \"4.2.2.2\" \"Ensure journald is configured to compress large log files\"\n",
    "CommandContains \"grep -e Storage /etc/systemd/journald.conf\" \"Storage=persistent\" \"4.2.2.1\" \"Ensure journald is configured to write logfiles to persistent disk\""
   ]
  },
  {
   "cell_type": "code",
   "execution_count": null,
   "id": "d0db5769",
   "metadata": {},
   "outputs": [],
   "source": []
  }
 ],
 "metadata": {
  "kernelspec": {
   "display_name": "Python 3 (ipykernel)",
   "language": "python",
   "name": "python3"
  },
  "language_info": {
   "codemirror_mode": {
    "name": "ipython",
    "version": 3
   },
   "file_extension": ".py",
   "mimetype": "text/x-python",
   "name": "python",
   "nbconvert_exporter": "python",
   "pygments_lexer": "ipython3",
   "version": "3.10.9"
  }
 },
 "nbformat": 4,
 "nbformat_minor": 5
}
